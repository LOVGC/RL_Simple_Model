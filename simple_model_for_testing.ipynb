{
 "cells": [
  {
   "cell_type": "code",
   "execution_count": 54,
   "metadata": {},
   "outputs": [],
   "source": [
    "import matplotlib.pyplot as plt\n",
    "import numpy as np\n",
    "\n",
    "from utility import *\n",
    "\n",
    "from scipy.fft import fft, ifft, fftfreq, fftshift\n",
    "import scipy.signal\n",
    "\n",
    "from tensorforce.environments import Environment\n",
    "from tensorforce.agents import Agent"
   ]
  },
  {
   "cell_type": "markdown",
   "metadata": {},
   "source": [
    "# Radar Environment Setup"
   ]
  },
  {
   "cell_type": "code",
   "execution_count": 55,
   "metadata": {},
   "outputs": [],
   "source": [
    "# implement the radar environment\n",
    "class RadarEnvironment(Environment):\n",
    "    def __init__(self, basis_freqs):\n",
    "        \"\"\"[summary]\n",
    "\n",
    "        Args:\n",
    "            basis_freqs ([type] Nx1 numpy array): [description] contains N basis angular freqs\n",
    "            max_timesteps ([type] int ): [description] the maximum number of timesteps per episode\n",
    "        \"\"\"\n",
    "\n",
    "        # define environment hyperparameters (in this case, the hyperparameters are the radar waveform set parameterization)\n",
    "        self.basis_freqs = basis_freqs\n",
    "        self.N = self.basis_freqs.size\n",
    "        self.band_width = np.max(self.basis_freqs) - np.min(self.basis_freqs)\n",
    "        self.Fs = 2 * self.band_width  # sampling frequency for the radar waveform\n",
    "        # duration is two periods of the exponential with the smallest freq\n",
    "        self.duration = (0, 2 * 1.0 / np.min(np.abs(self.basis_freqs)))\n",
    "\n",
    "        super().__init__()\n",
    "\n",
    "    def states(self):\n",
    "        return dict(type='float', shape=(self.N, 1), min_value=-1.0, max_value=1.0)\n",
    "\n",
    "    # Q: does action have to be discrete??\n",
    "    def actions(self):\n",
    "        # 0: -0.1, 1: 0, 2: 0.1\n",
    "        return dict(type='int', shape=(self.N, 1), num_actions=3)\n",
    "\n",
    "    def action_map(self, actions):\n",
    "        \"\"\"[summary] 0: -0.1, 1: 0, 2: 0.1\n",
    "            e.g. \n",
    "\n",
    "            actions repr used by agent: [0 1 2 1 1].T --> actions repr used by the environment [-0.1 0 0.1 0 0].T\n",
    "\n",
    "        Args:\n",
    "            actions ([type]): [description] the actions repr used by the agent\n",
    "\n",
    "        Returns:\n",
    "            [type]: [description] the actions repr used by the environment\n",
    "        \"\"\"\n",
    "        return -0.1 + 0.1 * actions\n",
    "\n",
    "    def max_episode_timesteps(self):\n",
    "        return super().max_episode_timesteps()\n",
    "\n",
    "    def close(self):\n",
    "        super().close()\n",
    "\n",
    "    def reset(self):\n",
    "        self.timestep = 0\n",
    "        self.current_state = np.random.uniform(\n",
    "            low=-1.0, high=1.0, size=(self.N, 1))\n",
    "\n",
    "        return self.current_state\n",
    "\n",
    "\n",
    "    #####################################################################\n",
    "    # Utility functions for computing waveform parameters\n",
    "    #####################################################################\n",
    "\n",
    "    @staticmethod\n",
    "    def freqD_to_timeD(state, duration, basis_freqs, Fs):\n",
    "        \"\"\"[summary]\n",
    "\n",
    "        Args:\n",
    "            state ([type]): [description] a column vector (2D np array with shape (N, 1))\n",
    "            duration ([type] a tuple (start_time, end_time)): [description]\n",
    "            basis_freqs ([type] column vector): [description]\n",
    "            BW ([type] scalar): [description]\n",
    "            Fs ([type] scalar): [description]\n",
    "\n",
    "        Returns:\n",
    "            [type]: [description] p_b is a row vector, a row vector is a 2-D np array with shape(1, N)\n",
    "        \"\"\"\n",
    "\n",
    "        w = 2*np.pi*basis_freqs\n",
    "\n",
    "        a = state.T\n",
    "        t = np.arange(duration[0], duration[1], 1.0/Fs).reshape((1, -1))\n",
    "\n",
    "        A = w @ t\n",
    "\n",
    "        p_b = a @ np.exp(1j * A) # here p_b is a row vector\n",
    "\n",
    "        return p_b\n",
    "\n",
    "    @staticmethod\n",
    "    def point_spread_fn(p_b, Fs):\n",
    "        \"\"\"[summary] assume p_b is a row vector\n",
    "\n",
    "        Args:\n",
    "            p_b ([type]): [description] a row vector\n",
    "            Fs ([type]): [description] sampling frequency\n",
    "\n",
    "        Returns:\n",
    "            [type]: [description] (t, psf): all row vectors\n",
    "        \"\"\"\n",
    "        (freqs, spectrum) = fourier_spectrum(p_b, Fs)\n",
    "        psd = np.abs(spectrum) ** 2\n",
    "        psf = fftshift(ifft(psd))\n",
    "\n",
    "        N = psf.size\n",
    "        t = np.linspace(0, N * 1.0 / Fs, N).reshape((1, -1))\n",
    "        return t, psf\n",
    "\n",
    "    @staticmethod\n",
    "    def peak_sidelobe_level(psf):\n",
    "        \"\"\"[summary]\n",
    "\n",
    "        Args:\n",
    "            psf ([type] row vector): [description] row vector with shape (1, N)\n",
    "\n",
    "        Returns:\n",
    "            [type]: [description] peak sidelobe level, which is a negative real number\n",
    "        \"\"\"       \n",
    "        psf_abs = np.abs(psf) \n",
    "        psf_abs_sorted = np.sort(psf_abs)\n",
    "\n",
    "        PSL = 20 * np.log10(psf_abs_sorted[0, -2] / psf_abs_sorted[0, -1])\n",
    "        return PSL\n",
    "\n",
    "    @staticmethod\n",
    "    def main_lobe_width(state):\n",
    "        pass\n",
    "\n",
    "    ################################################################\n",
    "    # methods that defines the environment dynamics\n",
    "    ###################################################################\n",
    "\n",
    "    # define helper functions used by execute()\n",
    "    def state_transition(self, actions):\n",
    "        \"\"\"[summary]\n",
    "\n",
    "        Args:\n",
    "            actions ([type]): [description] At, action repr used by the agent\n",
    "\n",
    "        Returns:\n",
    "            [type]: [description] S_(t+1), the next_state of the environment\n",
    "        \"\"\"\n",
    "        actions = self.action_map(\n",
    "            actions)  # convert action repr used by agent to action repr used by envrionment\n",
    "        next_state = self.current_state + actions\n",
    "\n",
    "        return next_state\n",
    "\n",
    "    \n",
    "    def compute_reward(self, state):\n",
    "        \"\"\"[summary] Compute the reward associated with the inpute state\n",
    "\n",
    "        Args:\n",
    "            state ([type]): [description]\n",
    "        \"\"\"\n",
    "        p_b = RadarEnvironment.freqD_to_timeD(state, self.duration, self.basis_freqs, self.Fs)\n",
    "        (t, psf) = RadarEnvironment.point_spread_fn(p_b, Fs)\n",
    "        PSL = RadarEnvironment.peak_sidelobe_level(psf) # recall it is always a negative scalar\n",
    "        \n",
    "        reward = -PSL\n",
    "        return reward\n",
    "\n",
    "\n",
    "    def dynamics_fn(self, actions):\n",
    "        \"\"\"The dynamics_fn is a blackbox whose input is current_state and action, \n",
    "        and output is (next_state, reward).\n",
    "\n",
    "        In this implementation, the current_state is contained in \"self\", thus, we don't \n",
    "        explicitly inlude current_state as input.\n",
    "\n",
    "        Args:\n",
    "            actions ([type] N by 1 integer arrays): [description] action repr used by the agent\n",
    "\n",
    "        Returns:\n",
    "            (next_state, reward)\n",
    "        \"\"\"\n",
    "\n",
    "        # define helper functions for computing reward: recall the reward R_(t+1) is due to A_t and S_t,\n",
    "        # thus R_(t + 1) is associated with the reward for state S_(t + 1)\n",
    "\n",
    "        pass\n",
    "\n",
    "    def execute(self, actions):\n",
    "\n",
    "        # increment timestep\n",
    "        self.timestep += 1\n",
    "\n",
    "        # update the current_state\n",
    "        self.current_state, self.reward = self.dynamics_fn(actions)\n",
    "\n",
    "        terminal = False\n",
    "\n",
    "        return self.current_state, terminal, self.reward\n"
   ]
  },
  {
   "cell_type": "code",
   "execution_count": 56,
   "metadata": {},
   "outputs": [
    {
     "data": {
      "image/png": "[encoded data removed]",
      "text/plain": [
       "<Figure size 432x288 with 1 Axes>"
      ]
     },
     "metadata": {
      "needs_background": "light"
     },
     "output_type": "display_data"
    }
   ],
   "source": [
    "# test static functions\n",
    "a = np.array([[0.69510533,  0.71412636,  0.875926, -0.36179501,  0.82492313,\n",
    "               0.59798141, -0.30389625,  0.44194973, -0.62593526, -0.21701164]])\n",
    "state = a.T\n",
    "basis_freqs_10 = np.array([[-24],\n",
    "                           [46],\n",
    "                           [-36],\n",
    "                           [25],\n",
    "                           [-25],\n",
    "                           [13],\n",
    "                           [32],\n",
    "                           [12],\n",
    "                           [94],\n",
    "                           [-70]])\n",
    "\n",
    "duration = (0, 2 * 1.0 / np.min( np.abs(basis_freqs_10[basis_freqs_10 != 0]) ))\n",
    "\n",
    "BW = np.max(basis_freqs_10) - np.min(basis_freqs_10)\n",
    "\n",
    "Fs = 2*BW\n",
    "\n",
    "p_b = RadarEnvironment.freqD_to_timeD(state, duration,basis_freqs_10, Fs)\n",
    "\n",
    "t, psf = RadarEnvironment.point_spread_fn(p_b, Fs)\n",
    "\n",
    "\n",
    "plt.plot(t[0], np.abs(psf[0]))\n",
    "plt.grid()\n",
    "plt.show()\n"
   ]
  },
  {
   "cell_type": "code",
   "execution_count": 57,
   "metadata": {},
   "outputs": [
    {
     "data": {
      "text/plain": [
       "-1.6639485783393428"
      ]
     },
     "execution_count": 57,
     "metadata": {},
     "output_type": "execute_result"
    }
   ],
   "source": [
    "PSL = RadarEnvironment.peak_sidelobe_level(psf)\n",
    "PSL"
   ]
  },
  {
   "cell_type": "code",
   "execution_count": 58,
   "metadata": {},
   "outputs": [
    {
     "data": {
      "text/plain": [
       "array([[ 36.42622729,  36.42622729,  43.79219786,  43.79219786,\n",
       "         52.64178015,  52.64178015,  73.91007363,  73.91007363,\n",
       "         74.0703883 ,  74.0703883 ,  81.73322842,  81.73322842,\n",
       "         88.14122803,  88.14122803,  95.25975009,  95.25975009,\n",
       "         98.30813417,  98.30813417, 105.72288638, 105.72288638,\n",
       "        106.12327914, 106.12327914, 109.16701585, 109.16701585,\n",
       "        114.37102737, 114.37102737, 116.98950225, 116.98950225,\n",
       "        119.84131221, 119.84131221, 122.91352208, 122.91352208,\n",
       "        125.26742949, 125.26742949, 126.44480409, 126.44480409,\n",
       "        129.16725917, 129.16725917, 132.24201065, 132.24201065,\n",
       "        155.06530928, 155.06530928, 159.90087252, 159.90087252,\n",
       "        163.21809691, 163.21809691, 174.63563508, 174.63563508,\n",
       "        183.89285442, 183.89285442, 208.41940765, 208.41940765,\n",
       "        223.5758303 , 223.5758303 , 270.78355226]])"
      ]
     },
     "execution_count": 58,
     "metadata": {},
     "output_type": "execute_result"
    }
   ],
   "source": [
    "np.sort(np.abs(psf))"
   ]
  },
  {
   "cell_type": "code",
   "execution_count": 59,
   "metadata": {},
   "outputs": [
    {
     "data": {
      "text/plain": [
       "-1.6640611417811557"
      ]
     },
     "execution_count": 59,
     "metadata": {},
     "output_type": "execute_result"
    }
   ],
   "source": [
    "20*np.log10(223.57/270.78)"
   ]
  },
  {
   "cell_type": "code",
   "execution_count": 7,
   "metadata": {},
   "outputs": [],
   "source": [
    "# test area\n",
    "N = 10\n",
    "max_timesteps = 100\n",
    "basis_freqs_10 = np.random.uniform(low=-100, high=100, size=(N, 1))\n",
    "radar_env = Environment.create(environment=RadarEnvironment,\n",
    "                               max_episode_timesteps=max_timesteps, basis_freqs=basis_freqs_10)\n"
   ]
  },
  {
   "cell_type": "markdown",
   "metadata": {},
   "source": [
    "# Agent Setup"
   ]
  },
  {
   "cell_type": "code",
   "execution_count": 3,
   "metadata": {},
   "outputs": [],
   "source": [
    "# check the tensorforce agent specs: https://tensorforce.readthedocs.io/en/latest/agents/tensorforce.html\n",
    "# it includes the discount factor\n",
    "\n",
    "agent = Agent.create(\n",
    "    agent='tensorforce', environment=radar_env, update=64,\n",
    "    optimizer=dict(optimizer='adam', learning_rate=1e-3),\n",
    "    objective='policy_gradient', reward_estimation=dict(horizon=1)\n",
    ")\n"
   ]
  },
  {
   "cell_type": "markdown",
   "metadata": {},
   "source": [
    "# Check: Untrained Agent Performance"
   ]
  },
  {
   "cell_type": "code",
   "execution_count": 14,
   "metadata": {},
   "outputs": [
    {
     "data": {
      "text/plain": [
       "array([1, 2, 3])"
      ]
     },
     "execution_count": 14,
     "metadata": {},
     "output_type": "execute_result"
    }
   ],
   "source": [
    "a = np.array([1,2,3])\n",
    "b = a.reshape([3, 1])\n",
    "a"
   ]
  },
  {
   "cell_type": "code",
   "execution_count": 15,
   "metadata": {},
   "outputs": [
    {
     "data": {
      "text/plain": [
       "array([[1],\n",
       "       [2],\n",
       "       [3]])"
      ]
     },
     "execution_count": 15,
     "metadata": {},
     "output_type": "execute_result"
    }
   ],
   "source": [
    "b"
   ]
  },
  {
   "cell_type": "markdown",
   "metadata": {},
   "source": [
    "# Train the agent"
   ]
  },
  {
   "cell_type": "code",
   "execution_count": 17,
   "metadata": {},
   "outputs": [
    {
     "data": {
      "text/plain": [
       "1"
      ]
     },
     "execution_count": 17,
     "metadata": {},
     "output_type": "execute_result"
    }
   ],
   "source": [
    "np.min(b)"
   ]
  },
  {
   "cell_type": "markdown",
   "metadata": {},
   "source": [
    "# Trained Agent Performance"
   ]
  },
  {
   "cell_type": "markdown",
   "metadata": {},
   "source": []
  }
 ],
 "metadata": {
  "interpreter": {
   "hash": "3239e8400f967b912aa5ff52c1d70244e44ae8ab469e58fe9dd95ca3971341f4"
  },
  "kernelspec": {
   "display_name": "Python 3.8.8 64-bit ('base': conda)",
   "name": "python3"
  },
  "language_info": {
   "codemirror_mode": {
    "name": "ipython",
    "version": 3
   },
   "file_extension": ".py",
   "mimetype": "text/x-python",
   "name": "python",
   "nbconvert_exporter": "python",
   "pygments_lexer": "ipython3",
   "version": "3.8.8"
  },
  "orig_nbformat": 4
 },
 "nbformat": 4,
 "nbformat_minor": 2
}
